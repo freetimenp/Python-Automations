{
  "nbformat": 4,
  "nbformat_minor": 0,
  "metadata": {
    "colab": {
      "provenance": []
    },
    "kernelspec": {
      "name": "python3",
      "display_name": "Python 3"
    },
    "language_info": {
      "name": "python"
    }
  },
  "cells": [
    {
      "cell_type": "code",
      "source": [
        "# Install drawpyo library\n",
        "pip install drawpyo\n",
        "\n",
        "# Import all required libraries\n",
        "import drawpyo\n",
        "from drawpyo.diagram_types import TreeDiagram, NodeObject\n",
        "from os import path\n",
        "\n",
        "# Define a custom NodeObject class that applies the style automatically\n",
        "class NodeObject(NodeObject):\n",
        "    def __init__(self, *args, **kwargs):\n",
        "        super().__init__(*args, **kwargs)\n",
        "        self.apply_style_string(\"shape=rounded;rounded=1;whiteSpace=wrap;html=1;fillColor=#f0f0f0;\")\n",
        "\n",
        "# Create a new tree diagram\n",
        "tree = TreeDiagram(\n",
        "    file_path=\"/content\",\n",
        "    file_name=\"Coffee_Grinders.drawio\",\n",
        "    direction=\"down\",\n",
        "    link_style=\"orthogonal\",\n",
        ")\n",
        "\n",
        "# Create nodes using NodeObject\n",
        "grinders = NodeObject(tree=tree, value=\"Appliances for Grinding Coffee\")\n",
        "\n",
        "blade_grinders = NodeObject(tree=tree, value=\"Blade Grinders\", tree_parent=grinders)\n",
        "burr_grinders = NodeObject(tree=tree, value=\"Burr Grinders\", tree_parent=grinders)\n",
        "blunt_objects = NodeObject(tree=tree, value=\"Blunt Objects\", tree_parent=grinders)\n",
        "\n",
        "elec_blade = NodeObject(tree=tree, value=\"Electric Blade Grinder\", tree_parent=blade_grinders)\n",
        "mnp = NodeObject(tree=tree, value=\"Mortar and Pestle\", tree_parent=blunt_objects)\n",
        "\n",
        "conical = NodeObject(tree=tree, value=\"Conical Burrs\", tree_parent=burr_grinders)\n",
        "elec_conical = NodeObject(tree=tree, value=\"Electric\", tree_parent=conical)\n",
        "manual_conical = NodeObject(tree=tree, value=\"Manual\", tree_parent=conical)\n",
        "\n",
        "# Auto-layout and write the file\n",
        "tree.auto_layout()\n",
        "tree.write()\n",
        "\n",
        "# Download the file\n",
        "from google.colab import files\n",
        "files.download('/content/Coffee_Grinders.drawio')"
      ],
      "metadata": {
        "colab": {
          "base_uri": "https://localhost:8080/",
          "height": 17
        },
        "id": "d-GvIPouJ9LH",
        "outputId": "510efb22-c1f1-4d6a-e2ed-c9b3ebf2d855"
      },
      "execution_count": 20,
      "outputs": [
        {
          "output_type": "display_data",
          "data": {
            "text/plain": [
              "<IPython.core.display.Javascript object>"
            ],
            "application/javascript": [
              "\n",
              "    async function download(id, filename, size) {\n",
              "      if (!google.colab.kernel.accessAllowed) {\n",
              "        return;\n",
              "      }\n",
              "      const div = document.createElement('div');\n",
              "      const label = document.createElement('label');\n",
              "      label.textContent = `Downloading \"${filename}\": `;\n",
              "      div.appendChild(label);\n",
              "      const progress = document.createElement('progress');\n",
              "      progress.max = size;\n",
              "      div.appendChild(progress);\n",
              "      document.body.appendChild(div);\n",
              "\n",
              "      const buffers = [];\n",
              "      let downloaded = 0;\n",
              "\n",
              "      const channel = await google.colab.kernel.comms.open(id);\n",
              "      // Send a message to notify the kernel that we're ready.\n",
              "      channel.send({})\n",
              "\n",
              "      for await (const message of channel.messages) {\n",
              "        // Send a message to notify the kernel that we're ready.\n",
              "        channel.send({})\n",
              "        if (message.buffers) {\n",
              "          for (const buffer of message.buffers) {\n",
              "            buffers.push(buffer);\n",
              "            downloaded += buffer.byteLength;\n",
              "            progress.value = downloaded;\n",
              "          }\n",
              "        }\n",
              "      }\n",
              "      const blob = new Blob(buffers, {type: 'application/binary'});\n",
              "      const a = document.createElement('a');\n",
              "      a.href = window.URL.createObjectURL(blob);\n",
              "      a.download = filename;\n",
              "      div.appendChild(a);\n",
              "      a.click();\n",
              "      div.remove();\n",
              "    }\n",
              "  "
            ]
          },
          "metadata": {}
        },
        {
          "output_type": "display_data",
          "data": {
            "text/plain": [
              "<IPython.core.display.Javascript object>"
            ],
            "application/javascript": [
              "download(\"download_6c99e744-401b-402f-a492-4baebd9c7157\", \"Coffee_Grinders.drawio\", 5009)"
            ]
          },
          "metadata": {}
        }
      ]
    }
  ]
}